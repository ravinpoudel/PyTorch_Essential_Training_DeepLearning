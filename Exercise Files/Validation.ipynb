{
  "nbformat": 4,
  "nbformat_minor": 0,
  "metadata": {
    "colab": {
      "name": "04_03_validation.ipynb",
      "provenance": [],
      "include_colab_link": true
    },
    "language_info": {
      "codemirror_mode": {
        "name": "ipython",
        "version": 3
      },
      "file_extension": ".py",
      "mimetype": "text/x-python",
      "name": "python",
      "nbconvert_exporter": "python",
      "pygments_lexer": "ipython3",
      "version": "3.6.8"
    },
    "kernelspec": {
      "name": "python3",
      "display_name": "Python 3"
    },
    "widgets": {
      "application/vnd.jupyter.widget-state+json": {
        "94addfbbc3ae4fb7b057449d6d23f9a2": {
          "model_module": "@jupyter-widgets/controls",
          "model_name": "HBoxModel",
          "model_module_version": "1.5.0",
          "state": {
            "_dom_classes": [],
            "_model_module": "@jupyter-widgets/controls",
            "_model_module_version": "1.5.0",
            "_model_name": "HBoxModel",
            "_view_count": null,
            "_view_module": "@jupyter-widgets/controls",
            "_view_module_version": "1.5.0",
            "_view_name": "HBoxView",
            "box_style": "",
            "children": [
              "IPY_MODEL_eee18b64a11f4f09a60e8ad555f08153",
              "IPY_MODEL_01d5b736b9f74f3b9ee3adc0f3e1e4dc",
              "IPY_MODEL_2493e8949c47492289e50dacc5140f97"
            ],
            "layout": "IPY_MODEL_ed64fdccf9ee454fb7f56cac17e4808d"
          }
        },
        "eee18b64a11f4f09a60e8ad555f08153": {
          "model_module": "@jupyter-widgets/controls",
          "model_name": "HTMLModel",
          "model_module_version": "1.5.0",
          "state": {
            "_dom_classes": [],
            "_model_module": "@jupyter-widgets/controls",
            "_model_module_version": "1.5.0",
            "_model_name": "HTMLModel",
            "_view_count": null,
            "_view_module": "@jupyter-widgets/controls",
            "_view_module_version": "1.5.0",
            "_view_name": "HTMLView",
            "description": "",
            "description_tooltip": null,
            "layout": "IPY_MODEL_b7eb736546c14a37b758983e6507227a",
            "placeholder": "​",
            "style": "IPY_MODEL_2185f3b3bd624811aa9c74f98b96a05f",
            "value": "100%"
          }
        },
        "01d5b736b9f74f3b9ee3adc0f3e1e4dc": {
          "model_module": "@jupyter-widgets/controls",
          "model_name": "FloatProgressModel",
          "model_module_version": "1.5.0",
          "state": {
            "_dom_classes": [],
            "_model_module": "@jupyter-widgets/controls",
            "_model_module_version": "1.5.0",
            "_model_name": "FloatProgressModel",
            "_view_count": null,
            "_view_module": "@jupyter-widgets/controls",
            "_view_module_version": "1.5.0",
            "_view_name": "ProgressView",
            "bar_style": "success",
            "description": "",
            "description_tooltip": null,
            "layout": "IPY_MODEL_73b90659ca2d43928b2e690d5ce089f2",
            "max": 26421880,
            "min": 0,
            "orientation": "horizontal",
            "style": "IPY_MODEL_9481eb9c402346b9a5da5944c93715cb",
            "value": 26421880
          }
        },
        "2493e8949c47492289e50dacc5140f97": {
          "model_module": "@jupyter-widgets/controls",
          "model_name": "HTMLModel",
          "model_module_version": "1.5.0",
          "state": {
            "_dom_classes": [],
            "_model_module": "@jupyter-widgets/controls",
            "_model_module_version": "1.5.0",
            "_model_name": "HTMLModel",
            "_view_count": null,
            "_view_module": "@jupyter-widgets/controls",
            "_view_module_version": "1.5.0",
            "_view_name": "HTMLView",
            "description": "",
            "description_tooltip": null,
            "layout": "IPY_MODEL_e546f8b76aed40aca95391d4f0c483a6",
            "placeholder": "​",
            "style": "IPY_MODEL_4d445a8fa13948d1aa107d5955f2a4d0",
            "value": " 26421880/26421880 [00:01&lt;00:00, 28937225.36it/s]"
          }
        },
        "ed64fdccf9ee454fb7f56cac17e4808d": {
          "model_module": "@jupyter-widgets/base",
          "model_name": "LayoutModel",
          "model_module_version": "1.2.0",
          "state": {
            "_model_module": "@jupyter-widgets/base",
            "_model_module_version": "1.2.0",
            "_model_name": "LayoutModel",
            "_view_count": null,
            "_view_module": "@jupyter-widgets/base",
            "_view_module_version": "1.2.0",
            "_view_name": "LayoutView",
            "align_content": null,
            "align_items": null,
            "align_self": null,
            "border": null,
            "bottom": null,
            "display": null,
            "flex": null,
            "flex_flow": null,
            "grid_area": null,
            "grid_auto_columns": null,
            "grid_auto_flow": null,
            "grid_auto_rows": null,
            "grid_column": null,
            "grid_gap": null,
            "grid_row": null,
            "grid_template_areas": null,
            "grid_template_columns": null,
            "grid_template_rows": null,
            "height": null,
            "justify_content": null,
            "justify_items": null,
            "left": null,
            "margin": null,
            "max_height": null,
            "max_width": null,
            "min_height": null,
            "min_width": null,
            "object_fit": null,
            "object_position": null,
            "order": null,
            "overflow": null,
            "overflow_x": null,
            "overflow_y": null,
            "padding": null,
            "right": null,
            "top": null,
            "visibility": null,
            "width": null
          }
        },
        "b7eb736546c14a37b758983e6507227a": {
          "model_module": "@jupyter-widgets/base",
          "model_name": "LayoutModel",
          "model_module_version": "1.2.0",
          "state": {
            "_model_module": "@jupyter-widgets/base",
            "_model_module_version": "1.2.0",
            "_model_name": "LayoutModel",
            "_view_count": null,
            "_view_module": "@jupyter-widgets/base",
            "_view_module_version": "1.2.0",
            "_view_name": "LayoutView",
            "align_content": null,
            "align_items": null,
            "align_self": null,
            "border": null,
            "bottom": null,
            "display": null,
            "flex": null,
            "flex_flow": null,
            "grid_area": null,
            "grid_auto_columns": null,
            "grid_auto_flow": null,
            "grid_auto_rows": null,
            "grid_column": null,
            "grid_gap": null,
            "grid_row": null,
            "grid_template_areas": null,
            "grid_template_columns": null,
            "grid_template_rows": null,
            "height": null,
            "justify_content": null,
            "justify_items": null,
            "left": null,
            "margin": null,
            "max_height": null,
            "max_width": null,
            "min_height": null,
            "min_width": null,
            "object_fit": null,
            "object_position": null,
            "order": null,
            "overflow": null,
            "overflow_x": null,
            "overflow_y": null,
            "padding": null,
            "right": null,
            "top": null,
            "visibility": null,
            "width": null
          }
        },
        "2185f3b3bd624811aa9c74f98b96a05f": {
          "model_module": "@jupyter-widgets/controls",
          "model_name": "DescriptionStyleModel",
          "model_module_version": "1.5.0",
          "state": {
            "_model_module": "@jupyter-widgets/controls",
            "_model_module_version": "1.5.0",
            "_model_name": "DescriptionStyleModel",
            "_view_count": null,
            "_view_module": "@jupyter-widgets/base",
            "_view_module_version": "1.2.0",
            "_view_name": "StyleView",
            "description_width": ""
          }
        },
        "73b90659ca2d43928b2e690d5ce089f2": {
          "model_module": "@jupyter-widgets/base",
          "model_name": "LayoutModel",
          "model_module_version": "1.2.0",
          "state": {
            "_model_module": "@jupyter-widgets/base",
            "_model_module_version": "1.2.0",
            "_model_name": "LayoutModel",
            "_view_count": null,
            "_view_module": "@jupyter-widgets/base",
            "_view_module_version": "1.2.0",
            "_view_name": "LayoutView",
            "align_content": null,
            "align_items": null,
            "align_self": null,
            "border": null,
            "bottom": null,
            "display": null,
            "flex": null,
            "flex_flow": null,
            "grid_area": null,
            "grid_auto_columns": null,
            "grid_auto_flow": null,
            "grid_auto_rows": null,
            "grid_column": null,
            "grid_gap": null,
            "grid_row": null,
            "grid_template_areas": null,
            "grid_template_columns": null,
            "grid_template_rows": null,
            "height": null,
            "justify_content": null,
            "justify_items": null,
            "left": null,
            "margin": null,
            "max_height": null,
            "max_width": null,
            "min_height": null,
            "min_width": null,
            "object_fit": null,
            "object_position": null,
            "order": null,
            "overflow": null,
            "overflow_x": null,
            "overflow_y": null,
            "padding": null,
            "right": null,
            "top": null,
            "visibility": null,
            "width": null
          }
        },
        "9481eb9c402346b9a5da5944c93715cb": {
          "model_module": "@jupyter-widgets/controls",
          "model_name": "ProgressStyleModel",
          "model_module_version": "1.5.0",
          "state": {
            "_model_module": "@jupyter-widgets/controls",
            "_model_module_version": "1.5.0",
            "_model_name": "ProgressStyleModel",
            "_view_count": null,
            "_view_module": "@jupyter-widgets/base",
            "_view_module_version": "1.2.0",
            "_view_name": "StyleView",
            "bar_color": null,
            "description_width": ""
          }
        },
        "e546f8b76aed40aca95391d4f0c483a6": {
          "model_module": "@jupyter-widgets/base",
          "model_name": "LayoutModel",
          "model_module_version": "1.2.0",
          "state": {
            "_model_module": "@jupyter-widgets/base",
            "_model_module_version": "1.2.0",
            "_model_name": "LayoutModel",
            "_view_count": null,
            "_view_module": "@jupyter-widgets/base",
            "_view_module_version": "1.2.0",
            "_view_name": "LayoutView",
            "align_content": null,
            "align_items": null,
            "align_self": null,
            "border": null,
            "bottom": null,
            "display": null,
            "flex": null,
            "flex_flow": null,
            "grid_area": null,
            "grid_auto_columns": null,
            "grid_auto_flow": null,
            "grid_auto_rows": null,
            "grid_column": null,
            "grid_gap": null,
            "grid_row": null,
            "grid_template_areas": null,
            "grid_template_columns": null,
            "grid_template_rows": null,
            "height": null,
            "justify_content": null,
            "justify_items": null,
            "left": null,
            "margin": null,
            "max_height": null,
            "max_width": null,
            "min_height": null,
            "min_width": null,
            "object_fit": null,
            "object_position": null,
            "order": null,
            "overflow": null,
            "overflow_x": null,
            "overflow_y": null,
            "padding": null,
            "right": null,
            "top": null,
            "visibility": null,
            "width": null
          }
        },
        "4d445a8fa13948d1aa107d5955f2a4d0": {
          "model_module": "@jupyter-widgets/controls",
          "model_name": "DescriptionStyleModel",
          "model_module_version": "1.5.0",
          "state": {
            "_model_module": "@jupyter-widgets/controls",
            "_model_module_version": "1.5.0",
            "_model_name": "DescriptionStyleModel",
            "_view_count": null,
            "_view_module": "@jupyter-widgets/base",
            "_view_module_version": "1.2.0",
            "_view_name": "StyleView",
            "description_width": ""
          }
        },
        "ef31582cc6dc4e719c3e1087cee5281e": {
          "model_module": "@jupyter-widgets/controls",
          "model_name": "HBoxModel",
          "model_module_version": "1.5.0",
          "state": {
            "_dom_classes": [],
            "_model_module": "@jupyter-widgets/controls",
            "_model_module_version": "1.5.0",
            "_model_name": "HBoxModel",
            "_view_count": null,
            "_view_module": "@jupyter-widgets/controls",
            "_view_module_version": "1.5.0",
            "_view_name": "HBoxView",
            "box_style": "",
            "children": [
              "IPY_MODEL_a09d9b291b03429c8b9a82f6914092bb",
              "IPY_MODEL_654bafaa5af947989be38618c7ebc782",
              "IPY_MODEL_a5329a6c6a0c494f96a8f891432cc475"
            ],
            "layout": "IPY_MODEL_e39535fa4d7e47da98114550b0c34859"
          }
        },
        "a09d9b291b03429c8b9a82f6914092bb": {
          "model_module": "@jupyter-widgets/controls",
          "model_name": "HTMLModel",
          "model_module_version": "1.5.0",
          "state": {
            "_dom_classes": [],
            "_model_module": "@jupyter-widgets/controls",
            "_model_module_version": "1.5.0",
            "_model_name": "HTMLModel",
            "_view_count": null,
            "_view_module": "@jupyter-widgets/controls",
            "_view_module_version": "1.5.0",
            "_view_name": "HTMLView",
            "description": "",
            "description_tooltip": null,
            "layout": "IPY_MODEL_3f6b7a7bf11b4ca88bb48c3d6e4cf0e6",
            "placeholder": "​",
            "style": "IPY_MODEL_55980d411cd54f28a9a2db478ac9afe0",
            "value": "100%"
          }
        },
        "654bafaa5af947989be38618c7ebc782": {
          "model_module": "@jupyter-widgets/controls",
          "model_name": "FloatProgressModel",
          "model_module_version": "1.5.0",
          "state": {
            "_dom_classes": [],
            "_model_module": "@jupyter-widgets/controls",
            "_model_module_version": "1.5.0",
            "_model_name": "FloatProgressModel",
            "_view_count": null,
            "_view_module": "@jupyter-widgets/controls",
            "_view_module_version": "1.5.0",
            "_view_name": "ProgressView",
            "bar_style": "success",
            "description": "",
            "description_tooltip": null,
            "layout": "IPY_MODEL_a853e07e151b4b16a14227226372521a",
            "max": 29515,
            "min": 0,
            "orientation": "horizontal",
            "style": "IPY_MODEL_f532f354a00346aebda488338fc6be5c",
            "value": 29515
          }
        },
        "a5329a6c6a0c494f96a8f891432cc475": {
          "model_module": "@jupyter-widgets/controls",
          "model_name": "HTMLModel",
          "model_module_version": "1.5.0",
          "state": {
            "_dom_classes": [],
            "_model_module": "@jupyter-widgets/controls",
            "_model_module_version": "1.5.0",
            "_model_name": "HTMLModel",
            "_view_count": null,
            "_view_module": "@jupyter-widgets/controls",
            "_view_module_version": "1.5.0",
            "_view_name": "HTMLView",
            "description": "",
            "description_tooltip": null,
            "layout": "IPY_MODEL_cc0ac88a9a4049f3aad5abd12c256263",
            "placeholder": "​",
            "style": "IPY_MODEL_e05f0e555c394f93a68fa92adaa15aec",
            "value": " 29515/29515 [00:00&lt;00:00, 317562.01it/s]"
          }
        },
        "e39535fa4d7e47da98114550b0c34859": {
          "model_module": "@jupyter-widgets/base",
          "model_name": "LayoutModel",
          "model_module_version": "1.2.0",
          "state": {
            "_model_module": "@jupyter-widgets/base",
            "_model_module_version": "1.2.0",
            "_model_name": "LayoutModel",
            "_view_count": null,
            "_view_module": "@jupyter-widgets/base",
            "_view_module_version": "1.2.0",
            "_view_name": "LayoutView",
            "align_content": null,
            "align_items": null,
            "align_self": null,
            "border": null,
            "bottom": null,
            "display": null,
            "flex": null,
            "flex_flow": null,
            "grid_area": null,
            "grid_auto_columns": null,
            "grid_auto_flow": null,
            "grid_auto_rows": null,
            "grid_column": null,
            "grid_gap": null,
            "grid_row": null,
            "grid_template_areas": null,
            "grid_template_columns": null,
            "grid_template_rows": null,
            "height": null,
            "justify_content": null,
            "justify_items": null,
            "left": null,
            "margin": null,
            "max_height": null,
            "max_width": null,
            "min_height": null,
            "min_width": null,
            "object_fit": null,
            "object_position": null,
            "order": null,
            "overflow": null,
            "overflow_x": null,
            "overflow_y": null,
            "padding": null,
            "right": null,
            "top": null,
            "visibility": null,
            "width": null
          }
        },
        "3f6b7a7bf11b4ca88bb48c3d6e4cf0e6": {
          "model_module": "@jupyter-widgets/base",
          "model_name": "LayoutModel",
          "model_module_version": "1.2.0",
          "state": {
            "_model_module": "@jupyter-widgets/base",
            "_model_module_version": "1.2.0",
            "_model_name": "LayoutModel",
            "_view_count": null,
            "_view_module": "@jupyter-widgets/base",
            "_view_module_version": "1.2.0",
            "_view_name": "LayoutView",
            "align_content": null,
            "align_items": null,
            "align_self": null,
            "border": null,
            "bottom": null,
            "display": null,
            "flex": null,
            "flex_flow": null,
            "grid_area": null,
            "grid_auto_columns": null,
            "grid_auto_flow": null,
            "grid_auto_rows": null,
            "grid_column": null,
            "grid_gap": null,
            "grid_row": null,
            "grid_template_areas": null,
            "grid_template_columns": null,
            "grid_template_rows": null,
            "height": null,
            "justify_content": null,
            "justify_items": null,
            "left": null,
            "margin": null,
            "max_height": null,
            "max_width": null,
            "min_height": null,
            "min_width": null,
            "object_fit": null,
            "object_position": null,
            "order": null,
            "overflow": null,
            "overflow_x": null,
            "overflow_y": null,
            "padding": null,
            "right": null,
            "top": null,
            "visibility": null,
            "width": null
          }
        },
        "55980d411cd54f28a9a2db478ac9afe0": {
          "model_module": "@jupyter-widgets/controls",
          "model_name": "DescriptionStyleModel",
          "model_module_version": "1.5.0",
          "state": {
            "_model_module": "@jupyter-widgets/controls",
            "_model_module_version": "1.5.0",
            "_model_name": "DescriptionStyleModel",
            "_view_count": null,
            "_view_module": "@jupyter-widgets/base",
            "_view_module_version": "1.2.0",
            "_view_name": "StyleView",
            "description_width": ""
          }
        },
        "a853e07e151b4b16a14227226372521a": {
          "model_module": "@jupyter-widgets/base",
          "model_name": "LayoutModel",
          "model_module_version": "1.2.0",
          "state": {
            "_model_module": "@jupyter-widgets/base",
            "_model_module_version": "1.2.0",
            "_model_name": "LayoutModel",
            "_view_count": null,
            "_view_module": "@jupyter-widgets/base",
            "_view_module_version": "1.2.0",
            "_view_name": "LayoutView",
            "align_content": null,
            "align_items": null,
            "align_self": null,
            "border": null,
            "bottom": null,
            "display": null,
            "flex": null,
            "flex_flow": null,
            "grid_area": null,
            "grid_auto_columns": null,
            "grid_auto_flow": null,
            "grid_auto_rows": null,
            "grid_column": null,
            "grid_gap": null,
            "grid_row": null,
            "grid_template_areas": null,
            "grid_template_columns": null,
            "grid_template_rows": null,
            "height": null,
            "justify_content": null,
            "justify_items": null,
            "left": null,
            "margin": null,
            "max_height": null,
            "max_width": null,
            "min_height": null,
            "min_width": null,
            "object_fit": null,
            "object_position": null,
            "order": null,
            "overflow": null,
            "overflow_x": null,
            "overflow_y": null,
            "padding": null,
            "right": null,
            "top": null,
            "visibility": null,
            "width": null
          }
        },
        "f532f354a00346aebda488338fc6be5c": {
          "model_module": "@jupyter-widgets/controls",
          "model_name": "ProgressStyleModel",
          "model_module_version": "1.5.0",
          "state": {
            "_model_module": "@jupyter-widgets/controls",
            "_model_module_version": "1.5.0",
            "_model_name": "ProgressStyleModel",
            "_view_count": null,
            "_view_module": "@jupyter-widgets/base",
            "_view_module_version": "1.2.0",
            "_view_name": "StyleView",
            "bar_color": null,
            "description_width": ""
          }
        },
        "cc0ac88a9a4049f3aad5abd12c256263": {
          "model_module": "@jupyter-widgets/base",
          "model_name": "LayoutModel",
          "model_module_version": "1.2.0",
          "state": {
            "_model_module": "@jupyter-widgets/base",
            "_model_module_version": "1.2.0",
            "_model_name": "LayoutModel",
            "_view_count": null,
            "_view_module": "@jupyter-widgets/base",
            "_view_module_version": "1.2.0",
            "_view_name": "LayoutView",
            "align_content": null,
            "align_items": null,
            "align_self": null,
            "border": null,
            "bottom": null,
            "display": null,
            "flex": null,
            "flex_flow": null,
            "grid_area": null,
            "grid_auto_columns": null,
            "grid_auto_flow": null,
            "grid_auto_rows": null,
            "grid_column": null,
            "grid_gap": null,
            "grid_row": null,
            "grid_template_areas": null,
            "grid_template_columns": null,
            "grid_template_rows": null,
            "height": null,
            "justify_content": null,
            "justify_items": null,
            "left": null,
            "margin": null,
            "max_height": null,
            "max_width": null,
            "min_height": null,
            "min_width": null,
            "object_fit": null,
            "object_position": null,
            "order": null,
            "overflow": null,
            "overflow_x": null,
            "overflow_y": null,
            "padding": null,
            "right": null,
            "top": null,
            "visibility": null,
            "width": null
          }
        },
        "e05f0e555c394f93a68fa92adaa15aec": {
          "model_module": "@jupyter-widgets/controls",
          "model_name": "DescriptionStyleModel",
          "model_module_version": "1.5.0",
          "state": {
            "_model_module": "@jupyter-widgets/controls",
            "_model_module_version": "1.5.0",
            "_model_name": "DescriptionStyleModel",
            "_view_count": null,
            "_view_module": "@jupyter-widgets/base",
            "_view_module_version": "1.2.0",
            "_view_name": "StyleView",
            "description_width": ""
          }
        },
        "12eadb1fa18c4395a4b7b9bb374e079b": {
          "model_module": "@jupyter-widgets/controls",
          "model_name": "HBoxModel",
          "model_module_version": "1.5.0",
          "state": {
            "_dom_classes": [],
            "_model_module": "@jupyter-widgets/controls",
            "_model_module_version": "1.5.0",
            "_model_name": "HBoxModel",
            "_view_count": null,
            "_view_module": "@jupyter-widgets/controls",
            "_view_module_version": "1.5.0",
            "_view_name": "HBoxView",
            "box_style": "",
            "children": [
              "IPY_MODEL_0e6256033c90435bab69ddcae959cb8c",
              "IPY_MODEL_f058cddcba794b7facc8dace88ee664e",
              "IPY_MODEL_06add8bc35bf4c5682f05c217f613ece"
            ],
            "layout": "IPY_MODEL_90b5c451d5a94088b5dc3322b5f1ac46"
          }
        },
        "0e6256033c90435bab69ddcae959cb8c": {
          "model_module": "@jupyter-widgets/controls",
          "model_name": "HTMLModel",
          "model_module_version": "1.5.0",
          "state": {
            "_dom_classes": [],
            "_model_module": "@jupyter-widgets/controls",
            "_model_module_version": "1.5.0",
            "_model_name": "HTMLModel",
            "_view_count": null,
            "_view_module": "@jupyter-widgets/controls",
            "_view_module_version": "1.5.0",
            "_view_name": "HTMLView",
            "description": "",
            "description_tooltip": null,
            "layout": "IPY_MODEL_0b387a36b8604f05be17640d1abd70b0",
            "placeholder": "​",
            "style": "IPY_MODEL_3bc5997f9f6f422eae345dfb2ee921fd",
            "value": "100%"
          }
        },
        "f058cddcba794b7facc8dace88ee664e": {
          "model_module": "@jupyter-widgets/controls",
          "model_name": "FloatProgressModel",
          "model_module_version": "1.5.0",
          "state": {
            "_dom_classes": [],
            "_model_module": "@jupyter-widgets/controls",
            "_model_module_version": "1.5.0",
            "_model_name": "FloatProgressModel",
            "_view_count": null,
            "_view_module": "@jupyter-widgets/controls",
            "_view_module_version": "1.5.0",
            "_view_name": "ProgressView",
            "bar_style": "success",
            "description": "",
            "description_tooltip": null,
            "layout": "IPY_MODEL_181c9a5b59b6410e89df696f4670cee9",
            "max": 4422102,
            "min": 0,
            "orientation": "horizontal",
            "style": "IPY_MODEL_4b635ffe98e54c0a8baf5f9c1b6459eb",
            "value": 4422102
          }
        },
        "06add8bc35bf4c5682f05c217f613ece": {
          "model_module": "@jupyter-widgets/controls",
          "model_name": "HTMLModel",
          "model_module_version": "1.5.0",
          "state": {
            "_dom_classes": [],
            "_model_module": "@jupyter-widgets/controls",
            "_model_module_version": "1.5.0",
            "_model_name": "HTMLModel",
            "_view_count": null,
            "_view_module": "@jupyter-widgets/controls",
            "_view_module_version": "1.5.0",
            "_view_name": "HTMLView",
            "description": "",
            "description_tooltip": null,
            "layout": "IPY_MODEL_5d68065759d246a68a7be7f7145bff9f",
            "placeholder": "​",
            "style": "IPY_MODEL_aa6fce02b0434531a6f11de3364ff259",
            "value": " 4422102/4422102 [00:00&lt;00:00, 6560553.99it/s]"
          }
        },
        "90b5c451d5a94088b5dc3322b5f1ac46": {
          "model_module": "@jupyter-widgets/base",
          "model_name": "LayoutModel",
          "model_module_version": "1.2.0",
          "state": {
            "_model_module": "@jupyter-widgets/base",
            "_model_module_version": "1.2.0",
            "_model_name": "LayoutModel",
            "_view_count": null,
            "_view_module": "@jupyter-widgets/base",
            "_view_module_version": "1.2.0",
            "_view_name": "LayoutView",
            "align_content": null,
            "align_items": null,
            "align_self": null,
            "border": null,
            "bottom": null,
            "display": null,
            "flex": null,
            "flex_flow": null,
            "grid_area": null,
            "grid_auto_columns": null,
            "grid_auto_flow": null,
            "grid_auto_rows": null,
            "grid_column": null,
            "grid_gap": null,
            "grid_row": null,
            "grid_template_areas": null,
            "grid_template_columns": null,
            "grid_template_rows": null,
            "height": null,
            "justify_content": null,
            "justify_items": null,
            "left": null,
            "margin": null,
            "max_height": null,
            "max_width": null,
            "min_height": null,
            "min_width": null,
            "object_fit": null,
            "object_position": null,
            "order": null,
            "overflow": null,
            "overflow_x": null,
            "overflow_y": null,
            "padding": null,
            "right": null,
            "top": null,
            "visibility": null,
            "width": null
          }
        },
        "0b387a36b8604f05be17640d1abd70b0": {
          "model_module": "@jupyter-widgets/base",
          "model_name": "LayoutModel",
          "model_module_version": "1.2.0",
          "state": {
            "_model_module": "@jupyter-widgets/base",
            "_model_module_version": "1.2.0",
            "_model_name": "LayoutModel",
            "_view_count": null,
            "_view_module": "@jupyter-widgets/base",
            "_view_module_version": "1.2.0",
            "_view_name": "LayoutView",
            "align_content": null,
            "align_items": null,
            "align_self": null,
            "border": null,
            "bottom": null,
            "display": null,
            "flex": null,
            "flex_flow": null,
            "grid_area": null,
            "grid_auto_columns": null,
            "grid_auto_flow": null,
            "grid_auto_rows": null,
            "grid_column": null,
            "grid_gap": null,
            "grid_row": null,
            "grid_template_areas": null,
            "grid_template_columns": null,
            "grid_template_rows": null,
            "height": null,
            "justify_content": null,
            "justify_items": null,
            "left": null,
            "margin": null,
            "max_height": null,
            "max_width": null,
            "min_height": null,
            "min_width": null,
            "object_fit": null,
            "object_position": null,
            "order": null,
            "overflow": null,
            "overflow_x": null,
            "overflow_y": null,
            "padding": null,
            "right": null,
            "top": null,
            "visibility": null,
            "width": null
          }
        },
        "3bc5997f9f6f422eae345dfb2ee921fd": {
          "model_module": "@jupyter-widgets/controls",
          "model_name": "DescriptionStyleModel",
          "model_module_version": "1.5.0",
          "state": {
            "_model_module": "@jupyter-widgets/controls",
            "_model_module_version": "1.5.0",
            "_model_name": "DescriptionStyleModel",
            "_view_count": null,
            "_view_module": "@jupyter-widgets/base",
            "_view_module_version": "1.2.0",
            "_view_name": "StyleView",
            "description_width": ""
          }
        },
        "181c9a5b59b6410e89df696f4670cee9": {
          "model_module": "@jupyter-widgets/base",
          "model_name": "LayoutModel",
          "model_module_version": "1.2.0",
          "state": {
            "_model_module": "@jupyter-widgets/base",
            "_model_module_version": "1.2.0",
            "_model_name": "LayoutModel",
            "_view_count": null,
            "_view_module": "@jupyter-widgets/base",
            "_view_module_version": "1.2.0",
            "_view_name": "LayoutView",
            "align_content": null,
            "align_items": null,
            "align_self": null,
            "border": null,
            "bottom": null,
            "display": null,
            "flex": null,
            "flex_flow": null,
            "grid_area": null,
            "grid_auto_columns": null,
            "grid_auto_flow": null,
            "grid_auto_rows": null,
            "grid_column": null,
            "grid_gap": null,
            "grid_row": null,
            "grid_template_areas": null,
            "grid_template_columns": null,
            "grid_template_rows": null,
            "height": null,
            "justify_content": null,
            "justify_items": null,
            "left": null,
            "margin": null,
            "max_height": null,
            "max_width": null,
            "min_height": null,
            "min_width": null,
            "object_fit": null,
            "object_position": null,
            "order": null,
            "overflow": null,
            "overflow_x": null,
            "overflow_y": null,
            "padding": null,
            "right": null,
            "top": null,
            "visibility": null,
            "width": null
          }
        },
        "4b635ffe98e54c0a8baf5f9c1b6459eb": {
          "model_module": "@jupyter-widgets/controls",
          "model_name": "ProgressStyleModel",
          "model_module_version": "1.5.0",
          "state": {
            "_model_module": "@jupyter-widgets/controls",
            "_model_module_version": "1.5.0",
            "_model_name": "ProgressStyleModel",
            "_view_count": null,
            "_view_module": "@jupyter-widgets/base",
            "_view_module_version": "1.2.0",
            "_view_name": "StyleView",
            "bar_color": null,
            "description_width": ""
          }
        },
        "5d68065759d246a68a7be7f7145bff9f": {
          "model_module": "@jupyter-widgets/base",
          "model_name": "LayoutModel",
          "model_module_version": "1.2.0",
          "state": {
            "_model_module": "@jupyter-widgets/base",
            "_model_module_version": "1.2.0",
            "_model_name": "LayoutModel",
            "_view_count": null,
            "_view_module": "@jupyter-widgets/base",
            "_view_module_version": "1.2.0",
            "_view_name": "LayoutView",
            "align_content": null,
            "align_items": null,
            "align_self": null,
            "border": null,
            "bottom": null,
            "display": null,
            "flex": null,
            "flex_flow": null,
            "grid_area": null,
            "grid_auto_columns": null,
            "grid_auto_flow": null,
            "grid_auto_rows": null,
            "grid_column": null,
            "grid_gap": null,
            "grid_row": null,
            "grid_template_areas": null,
            "grid_template_columns": null,
            "grid_template_rows": null,
            "height": null,
            "justify_content": null,
            "justify_items": null,
            "left": null,
            "margin": null,
            "max_height": null,
            "max_width": null,
            "min_height": null,
            "min_width": null,
            "object_fit": null,
            "object_position": null,
            "order": null,
            "overflow": null,
            "overflow_x": null,
            "overflow_y": null,
            "padding": null,
            "right": null,
            "top": null,
            "visibility": null,
            "width": null
          }
        },
        "aa6fce02b0434531a6f11de3364ff259": {
          "model_module": "@jupyter-widgets/controls",
          "model_name": "DescriptionStyleModel",
          "model_module_version": "1.5.0",
          "state": {
            "_model_module": "@jupyter-widgets/controls",
            "_model_module_version": "1.5.0",
            "_model_name": "DescriptionStyleModel",
            "_view_count": null,
            "_view_module": "@jupyter-widgets/base",
            "_view_module_version": "1.2.0",
            "_view_name": "StyleView",
            "description_width": ""
          }
        },
        "b25a5ac0a861451e929d7a4f7d0d627a": {
          "model_module": "@jupyter-widgets/controls",
          "model_name": "HBoxModel",
          "model_module_version": "1.5.0",
          "state": {
            "_dom_classes": [],
            "_model_module": "@jupyter-widgets/controls",
            "_model_module_version": "1.5.0",
            "_model_name": "HBoxModel",
            "_view_count": null,
            "_view_module": "@jupyter-widgets/controls",
            "_view_module_version": "1.5.0",
            "_view_name": "HBoxView",
            "box_style": "",
            "children": [
              "IPY_MODEL_fd4fb0e7a16843f1b8842dc05a79ea84",
              "IPY_MODEL_8da7080291d14d629fd3f686900d8ede",
              "IPY_MODEL_6994cab247f04e6594456751376f9dcc"
            ],
            "layout": "IPY_MODEL_4dc0ef1694994156ab9dcdb6a9416db1"
          }
        },
        "fd4fb0e7a16843f1b8842dc05a79ea84": {
          "model_module": "@jupyter-widgets/controls",
          "model_name": "HTMLModel",
          "model_module_version": "1.5.0",
          "state": {
            "_dom_classes": [],
            "_model_module": "@jupyter-widgets/controls",
            "_model_module_version": "1.5.0",
            "_model_name": "HTMLModel",
            "_view_count": null,
            "_view_module": "@jupyter-widgets/controls",
            "_view_module_version": "1.5.0",
            "_view_name": "HTMLView",
            "description": "",
            "description_tooltip": null,
            "layout": "IPY_MODEL_9ae4c69d482d479d86d896384ea60419",
            "placeholder": "​",
            "style": "IPY_MODEL_c08aad46edd1448494f21a6dc3658599",
            "value": "100%"
          }
        },
        "8da7080291d14d629fd3f686900d8ede": {
          "model_module": "@jupyter-widgets/controls",
          "model_name": "FloatProgressModel",
          "model_module_version": "1.5.0",
          "state": {
            "_dom_classes": [],
            "_model_module": "@jupyter-widgets/controls",
            "_model_module_version": "1.5.0",
            "_model_name": "FloatProgressModel",
            "_view_count": null,
            "_view_module": "@jupyter-widgets/controls",
            "_view_module_version": "1.5.0",
            "_view_name": "ProgressView",
            "bar_style": "success",
            "description": "",
            "description_tooltip": null,
            "layout": "IPY_MODEL_37a3714c077347bc8a732776b8e17ee3",
            "max": 5148,
            "min": 0,
            "orientation": "horizontal",
            "style": "IPY_MODEL_bf4959172d0247ac80e845022d52627d",
            "value": 5148
          }
        },
        "6994cab247f04e6594456751376f9dcc": {
          "model_module": "@jupyter-widgets/controls",
          "model_name": "HTMLModel",
          "model_module_version": "1.5.0",
          "state": {
            "_dom_classes": [],
            "_model_module": "@jupyter-widgets/controls",
            "_model_module_version": "1.5.0",
            "_model_name": "HTMLModel",
            "_view_count": null,
            "_view_module": "@jupyter-widgets/controls",
            "_view_module_version": "1.5.0",
            "_view_name": "HTMLView",
            "description": "",
            "description_tooltip": null,
            "layout": "IPY_MODEL_1bfb77b295974defa4b5b3bb21ba107d",
            "placeholder": "​",
            "style": "IPY_MODEL_2001a59697e5473ab1aa0ece6b0b07a9",
            "value": " 5148/5148 [00:00&lt;00:00, 73139.12it/s]"
          }
        },
        "4dc0ef1694994156ab9dcdb6a9416db1": {
          "model_module": "@jupyter-widgets/base",
          "model_name": "LayoutModel",
          "model_module_version": "1.2.0",
          "state": {
            "_model_module": "@jupyter-widgets/base",
            "_model_module_version": "1.2.0",
            "_model_name": "LayoutModel",
            "_view_count": null,
            "_view_module": "@jupyter-widgets/base",
            "_view_module_version": "1.2.0",
            "_view_name": "LayoutView",
            "align_content": null,
            "align_items": null,
            "align_self": null,
            "border": null,
            "bottom": null,
            "display": null,
            "flex": null,
            "flex_flow": null,
            "grid_area": null,
            "grid_auto_columns": null,
            "grid_auto_flow": null,
            "grid_auto_rows": null,
            "grid_column": null,
            "grid_gap": null,
            "grid_row": null,
            "grid_template_areas": null,
            "grid_template_columns": null,
            "grid_template_rows": null,
            "height": null,
            "justify_content": null,
            "justify_items": null,
            "left": null,
            "margin": null,
            "max_height": null,
            "max_width": null,
            "min_height": null,
            "min_width": null,
            "object_fit": null,
            "object_position": null,
            "order": null,
            "overflow": null,
            "overflow_x": null,
            "overflow_y": null,
            "padding": null,
            "right": null,
            "top": null,
            "visibility": null,
            "width": null
          }
        },
        "9ae4c69d482d479d86d896384ea60419": {
          "model_module": "@jupyter-widgets/base",
          "model_name": "LayoutModel",
          "model_module_version": "1.2.0",
          "state": {
            "_model_module": "@jupyter-widgets/base",
            "_model_module_version": "1.2.0",
            "_model_name": "LayoutModel",
            "_view_count": null,
            "_view_module": "@jupyter-widgets/base",
            "_view_module_version": "1.2.0",
            "_view_name": "LayoutView",
            "align_content": null,
            "align_items": null,
            "align_self": null,
            "border": null,
            "bottom": null,
            "display": null,
            "flex": null,
            "flex_flow": null,
            "grid_area": null,
            "grid_auto_columns": null,
            "grid_auto_flow": null,
            "grid_auto_rows": null,
            "grid_column": null,
            "grid_gap": null,
            "grid_row": null,
            "grid_template_areas": null,
            "grid_template_columns": null,
            "grid_template_rows": null,
            "height": null,
            "justify_content": null,
            "justify_items": null,
            "left": null,
            "margin": null,
            "max_height": null,
            "max_width": null,
            "min_height": null,
            "min_width": null,
            "object_fit": null,
            "object_position": null,
            "order": null,
            "overflow": null,
            "overflow_x": null,
            "overflow_y": null,
            "padding": null,
            "right": null,
            "top": null,
            "visibility": null,
            "width": null
          }
        },
        "c08aad46edd1448494f21a6dc3658599": {
          "model_module": "@jupyter-widgets/controls",
          "model_name": "DescriptionStyleModel",
          "model_module_version": "1.5.0",
          "state": {
            "_model_module": "@jupyter-widgets/controls",
            "_model_module_version": "1.5.0",
            "_model_name": "DescriptionStyleModel",
            "_view_count": null,
            "_view_module": "@jupyter-widgets/base",
            "_view_module_version": "1.2.0",
            "_view_name": "StyleView",
            "description_width": ""
          }
        },
        "37a3714c077347bc8a732776b8e17ee3": {
          "model_module": "@jupyter-widgets/base",
          "model_name": "LayoutModel",
          "model_module_version": "1.2.0",
          "state": {
            "_model_module": "@jupyter-widgets/base",
            "_model_module_version": "1.2.0",
            "_model_name": "LayoutModel",
            "_view_count": null,
            "_view_module": "@jupyter-widgets/base",
            "_view_module_version": "1.2.0",
            "_view_name": "LayoutView",
            "align_content": null,
            "align_items": null,
            "align_self": null,
            "border": null,
            "bottom": null,
            "display": null,
            "flex": null,
            "flex_flow": null,
            "grid_area": null,
            "grid_auto_columns": null,
            "grid_auto_flow": null,
            "grid_auto_rows": null,
            "grid_column": null,
            "grid_gap": null,
            "grid_row": null,
            "grid_template_areas": null,
            "grid_template_columns": null,
            "grid_template_rows": null,
            "height": null,
            "justify_content": null,
            "justify_items": null,
            "left": null,
            "margin": null,
            "max_height": null,
            "max_width": null,
            "min_height": null,
            "min_width": null,
            "object_fit": null,
            "object_position": null,
            "order": null,
            "overflow": null,
            "overflow_x": null,
            "overflow_y": null,
            "padding": null,
            "right": null,
            "top": null,
            "visibility": null,
            "width": null
          }
        },
        "bf4959172d0247ac80e845022d52627d": {
          "model_module": "@jupyter-widgets/controls",
          "model_name": "ProgressStyleModel",
          "model_module_version": "1.5.0",
          "state": {
            "_model_module": "@jupyter-widgets/controls",
            "_model_module_version": "1.5.0",
            "_model_name": "ProgressStyleModel",
            "_view_count": null,
            "_view_module": "@jupyter-widgets/base",
            "_view_module_version": "1.2.0",
            "_view_name": "StyleView",
            "bar_color": null,
            "description_width": ""
          }
        },
        "1bfb77b295974defa4b5b3bb21ba107d": {
          "model_module": "@jupyter-widgets/base",
          "model_name": "LayoutModel",
          "model_module_version": "1.2.0",
          "state": {
            "_model_module": "@jupyter-widgets/base",
            "_model_module_version": "1.2.0",
            "_model_name": "LayoutModel",
            "_view_count": null,
            "_view_module": "@jupyter-widgets/base",
            "_view_module_version": "1.2.0",
            "_view_name": "LayoutView",
            "align_content": null,
            "align_items": null,
            "align_self": null,
            "border": null,
            "bottom": null,
            "display": null,
            "flex": null,
            "flex_flow": null,
            "grid_area": null,
            "grid_auto_columns": null,
            "grid_auto_flow": null,
            "grid_auto_rows": null,
            "grid_column": null,
            "grid_gap": null,
            "grid_row": null,
            "grid_template_areas": null,
            "grid_template_columns": null,
            "grid_template_rows": null,
            "height": null,
            "justify_content": null,
            "justify_items": null,
            "left": null,
            "margin": null,
            "max_height": null,
            "max_width": null,
            "min_height": null,
            "min_width": null,
            "object_fit": null,
            "object_position": null,
            "order": null,
            "overflow": null,
            "overflow_x": null,
            "overflow_y": null,
            "padding": null,
            "right": null,
            "top": null,
            "visibility": null,
            "width": null
          }
        },
        "2001a59697e5473ab1aa0ece6b0b07a9": {
          "model_module": "@jupyter-widgets/controls",
          "model_name": "DescriptionStyleModel",
          "model_module_version": "1.5.0",
          "state": {
            "_model_module": "@jupyter-widgets/controls",
            "_model_module_version": "1.5.0",
            "_model_name": "DescriptionStyleModel",
            "_view_count": null,
            "_view_module": "@jupyter-widgets/base",
            "_view_module_version": "1.2.0",
            "_view_name": "StyleView",
            "description_width": ""
          }
        }
      }
    }
  },
  "cells": [
    {
      "cell_type": "markdown",
      "metadata": {
        "id": "view-in-github",
        "colab_type": "text"
      },
      "source": [
        "<a href=\"https://colab.research.google.com/github/ravinpoudel/PyTorch_Essential_Training_DeepLearning/blob/main/Exercise%20Files/Validation.ipynb\" target=\"_parent\"><img src=\"https://colab.research.google.com/assets/colab-badge.svg\" alt=\"Open In Colab\"/></a>"
      ]
    },
    {
      "cell_type": "markdown",
      "metadata": {
        "id": "gXmCHcwKs6rd"
      },
      "source": [
        "# Validation"
      ]
    },
    {
      "cell_type": "code",
      "metadata": {
        "id": "PzCCniVwNTdp"
      },
      "source": [
        "# Setting seeds to try and ensure we have the same results - this is not guaranteed across PyTorch releases.\n",
        "import torch\n",
        "torch.manual_seed(0)\n",
        "torch.backends.cudnn.deterministic = True\n",
        "torch.backends.cudnn.benchmark = False\n",
        "\n",
        "import numpy as np\n",
        "np.random.seed(0)"
      ],
      "execution_count": 1,
      "outputs": []
    },
    {
      "cell_type": "code",
      "metadata": {
        "id": "PCJzXv0OK1Bs",
        "colab": {
          "base_uri": "https://localhost:8080/",
          "height": 437,
          "referenced_widgets": [
            "94addfbbc3ae4fb7b057449d6d23f9a2",
            "eee18b64a11f4f09a60e8ad555f08153",
            "01d5b736b9f74f3b9ee3adc0f3e1e4dc",
            "2493e8949c47492289e50dacc5140f97",
            "ed64fdccf9ee454fb7f56cac17e4808d",
            "b7eb736546c14a37b758983e6507227a",
            "2185f3b3bd624811aa9c74f98b96a05f",
            "73b90659ca2d43928b2e690d5ce089f2",
            "9481eb9c402346b9a5da5944c93715cb",
            "e546f8b76aed40aca95391d4f0c483a6",
            "4d445a8fa13948d1aa107d5955f2a4d0",
            "ef31582cc6dc4e719c3e1087cee5281e",
            "a09d9b291b03429c8b9a82f6914092bb",
            "654bafaa5af947989be38618c7ebc782",
            "a5329a6c6a0c494f96a8f891432cc475",
            "e39535fa4d7e47da98114550b0c34859",
            "3f6b7a7bf11b4ca88bb48c3d6e4cf0e6",
            "55980d411cd54f28a9a2db478ac9afe0",
            "a853e07e151b4b16a14227226372521a",
            "f532f354a00346aebda488338fc6be5c",
            "cc0ac88a9a4049f3aad5abd12c256263",
            "e05f0e555c394f93a68fa92adaa15aec",
            "12eadb1fa18c4395a4b7b9bb374e079b",
            "0e6256033c90435bab69ddcae959cb8c",
            "f058cddcba794b7facc8dace88ee664e",
            "06add8bc35bf4c5682f05c217f613ece",
            "90b5c451d5a94088b5dc3322b5f1ac46",
            "0b387a36b8604f05be17640d1abd70b0",
            "3bc5997f9f6f422eae345dfb2ee921fd",
            "181c9a5b59b6410e89df696f4670cee9",
            "4b635ffe98e54c0a8baf5f9c1b6459eb",
            "5d68065759d246a68a7be7f7145bff9f",
            "aa6fce02b0434531a6f11de3364ff259",
            "b25a5ac0a861451e929d7a4f7d0d627a",
            "fd4fb0e7a16843f1b8842dc05a79ea84",
            "8da7080291d14d629fd3f686900d8ede",
            "6994cab247f04e6594456751376f9dcc",
            "4dc0ef1694994156ab9dcdb6a9416db1",
            "9ae4c69d482d479d86d896384ea60419",
            "c08aad46edd1448494f21a6dc3658599",
            "37a3714c077347bc8a732776b8e17ee3",
            "bf4959172d0247ac80e845022d52627d",
            "1bfb77b295974defa4b5b3bb21ba107d",
            "2001a59697e5473ab1aa0ece6b0b07a9"
          ]
        },
        "outputId": "73a77d1d-2e4f-4b78-a733-6f4c671b8d96"
      },
      "source": [
        "from torchvision import datasets, transforms\n",
        "import torch.nn.functional as F\n",
        "from torch import nn\n",
        "\n",
        "mean, std = (0.5,), (0.5,)\n",
        "\n",
        "# Create a transform and normalise data\n",
        "transform = transforms.Compose([transforms.ToTensor(),\n",
        "                                transforms.Normalize(mean, std)\n",
        "                              ])\n",
        "\n",
        "# Download FMNIST training dataset and load training data\n",
        "trainset = datasets.FashionMNIST('~/.pytorch/FMNIST/', download=True, train=True, transform=transform)\n",
        "trainloader = torch.utils.data.DataLoader(trainset, batch_size=64, shuffle=True)\n",
        "\n",
        "# Download FMNIST test dataset and load test data\n",
        "testset = datasets.FashionMNIST('~/.pytorch/FMNIST/', download=True, train=False, transform=transform)\n",
        "testloader = torch.utils.data.DataLoader(testset, batch_size=64, shuffle=False)"
      ],
      "execution_count": 2,
      "outputs": [
        {
          "output_type": "stream",
          "name": "stdout",
          "text": [
            "Downloading http://fashion-mnist.s3-website.eu-central-1.amazonaws.com/train-images-idx3-ubyte.gz\n",
            "Downloading http://fashion-mnist.s3-website.eu-central-1.amazonaws.com/train-images-idx3-ubyte.gz to /root/.pytorch/FMNIST/FashionMNIST/raw/train-images-idx3-ubyte.gz\n"
          ]
        },
        {
          "output_type": "display_data",
          "data": {
            "text/plain": [
              "  0%|          | 0/26421880 [00:00<?, ?it/s]"
            ],
            "application/vnd.jupyter.widget-view+json": {
              "version_major": 2,
              "version_minor": 0,
              "model_id": "94addfbbc3ae4fb7b057449d6d23f9a2"
            }
          },
          "metadata": {}
        },
        {
          "output_type": "stream",
          "name": "stdout",
          "text": [
            "Extracting /root/.pytorch/FMNIST/FashionMNIST/raw/train-images-idx3-ubyte.gz to /root/.pytorch/FMNIST/FashionMNIST/raw\n",
            "\n",
            "Downloading http://fashion-mnist.s3-website.eu-central-1.amazonaws.com/train-labels-idx1-ubyte.gz\n",
            "Downloading http://fashion-mnist.s3-website.eu-central-1.amazonaws.com/train-labels-idx1-ubyte.gz to /root/.pytorch/FMNIST/FashionMNIST/raw/train-labels-idx1-ubyte.gz\n"
          ]
        },
        {
          "output_type": "display_data",
          "data": {
            "text/plain": [
              "  0%|          | 0/29515 [00:00<?, ?it/s]"
            ],
            "application/vnd.jupyter.widget-view+json": {
              "version_major": 2,
              "version_minor": 0,
              "model_id": "ef31582cc6dc4e719c3e1087cee5281e"
            }
          },
          "metadata": {}
        },
        {
          "output_type": "stream",
          "name": "stdout",
          "text": [
            "Extracting /root/.pytorch/FMNIST/FashionMNIST/raw/train-labels-idx1-ubyte.gz to /root/.pytorch/FMNIST/FashionMNIST/raw\n",
            "\n",
            "Downloading http://fashion-mnist.s3-website.eu-central-1.amazonaws.com/t10k-images-idx3-ubyte.gz\n",
            "Downloading http://fashion-mnist.s3-website.eu-central-1.amazonaws.com/t10k-images-idx3-ubyte.gz to /root/.pytorch/FMNIST/FashionMNIST/raw/t10k-images-idx3-ubyte.gz\n"
          ]
        },
        {
          "output_type": "display_data",
          "data": {
            "text/plain": [
              "  0%|          | 0/4422102 [00:00<?, ?it/s]"
            ],
            "application/vnd.jupyter.widget-view+json": {
              "version_major": 2,
              "version_minor": 0,
              "model_id": "12eadb1fa18c4395a4b7b9bb374e079b"
            }
          },
          "metadata": {}
        },
        {
          "output_type": "stream",
          "name": "stdout",
          "text": [
            "Extracting /root/.pytorch/FMNIST/FashionMNIST/raw/t10k-images-idx3-ubyte.gz to /root/.pytorch/FMNIST/FashionMNIST/raw\n",
            "\n",
            "Downloading http://fashion-mnist.s3-website.eu-central-1.amazonaws.com/t10k-labels-idx1-ubyte.gz\n",
            "Downloading http://fashion-mnist.s3-website.eu-central-1.amazonaws.com/t10k-labels-idx1-ubyte.gz to /root/.pytorch/FMNIST/FashionMNIST/raw/t10k-labels-idx1-ubyte.gz\n"
          ]
        },
        {
          "output_type": "display_data",
          "data": {
            "text/plain": [
              "  0%|          | 0/5148 [00:00<?, ?it/s]"
            ],
            "application/vnd.jupyter.widget-view+json": {
              "version_major": 2,
              "version_minor": 0,
              "model_id": "b25a5ac0a861451e929d7a4f7d0d627a"
            }
          },
          "metadata": {}
        },
        {
          "output_type": "stream",
          "name": "stdout",
          "text": [
            "Extracting /root/.pytorch/FMNIST/FashionMNIST/raw/t10k-labels-idx1-ubyte.gz to /root/.pytorch/FMNIST/FashionMNIST/raw\n",
            "\n"
          ]
        }
      ]
    },
    {
      "cell_type": "code",
      "metadata": {
        "id": "rqMqFbIVrbFH"
      },
      "source": [
        "class FMNIST(nn.Module):\n",
        "  def __init__(self):\n",
        "    super().__init__()\n",
        "    self.fc1 = nn.Linear(784, 128)\n",
        "    self.fc2 = nn.Linear(128,64)\n",
        "    self.fc3 = nn.Linear(64,10)\n",
        "    \n",
        "  def forward(self, x):\n",
        "    x = x.view(x.shape[0], -1)\n",
        "    \n",
        "    x = F.relu(self.fc1(x))\n",
        "    x = F.relu(self.fc2(x))\n",
        "    x = self.fc3(x)\n",
        "    x = F.log_softmax(x, dim=1)\n",
        "    \n",
        "    return x\n",
        "\n",
        "model = FMNIST()"
      ],
      "execution_count": 3,
      "outputs": []
    },
    {
      "cell_type": "code",
      "metadata": {
        "id": "oNNyI5YRZ7H1",
        "colab": {
          "base_uri": "https://localhost:8080/"
        },
        "outputId": "f3981e8d-04e8-49be-8ba2-5e4b7283d331"
      },
      "source": [
        "from torch import optim\n",
        "\n",
        "criterion = nn.NLLLoss()\n",
        "optimizer = optim.SGD(model.parameters(), lr=0.01)\n",
        "\n",
        "num_epochs = 3\n",
        "\n",
        "for i in range(num_epochs):\n",
        "    cum_loss = 0\n",
        "\n",
        "    for images, labels in trainloader:\n",
        "        optimizer.zero_grad()\n",
        "        output = model(images)\n",
        "        loss = criterion(output, labels)\n",
        "        loss.backward()\n",
        "        optimizer.step()\n",
        "        \n",
        "        cum_loss += loss.item()\n",
        "     \n",
        "    print(f\"Training loss: {cum_loss/len(trainloader)}\")"
      ],
      "execution_count": 4,
      "outputs": [
        {
          "output_type": "stream",
          "name": "stdout",
          "text": [
            "Training loss: 1.034134967621964\n",
            "Training loss: 0.561660524116142\n",
            "Training loss: 0.49200392563714146\n"
          ]
        }
      ]
    },
    {
      "cell_type": "code",
      "metadata": {
        "id": "UWYw7ZOzsS8U"
      },
      "source": [
        "import matplotlib.pyplot as plt\n",
        "%matplotlib inline\n",
        "\n",
        "images, labels = next(iter(testloader))\n",
        "\n",
        "test_image_id = 0 \n",
        "img = images[test_image_id].view(1, 784) \n",
        "\n",
        "with torch.no_grad():\n",
        "    logps = model(img)"
      ],
      "execution_count": 5,
      "outputs": []
    },
    {
      "cell_type": "code",
      "metadata": {
        "id": "2tRjoEDSqY8X",
        "colab": {
          "base_uri": "https://localhost:8080/"
        },
        "outputId": "08c6385b-2522-4d7c-d905-2dc82bdf271d"
      },
      "source": [
        "ps = torch.exp(logps)\n",
        "ps"
      ],
      "execution_count": 6,
      "outputs": [
        {
          "output_type": "execute_result",
          "data": {
            "text/plain": [
              "tensor([[2.4418e-06, 9.3991e-07, 1.3569e-05, 2.6009e-06, 6.9975e-06, 1.0351e-01,\n",
              "         6.1364e-06, 5.1921e-01, 5.0541e-03, 3.7219e-01]])"
            ]
          },
          "metadata": {},
          "execution_count": 6
        }
      ]
    },
    {
      "cell_type": "code",
      "metadata": {
        "id": "dpP_RLV-qkc6",
        "colab": {
          "base_uri": "https://localhost:8080/"
        },
        "outputId": "84aee680-89fc-41a5-ad42-7818191deb73"
      },
      "source": [
        "nps = ps.numpy()[0]\n",
        "nps"
      ],
      "execution_count": 7,
      "outputs": [
        {
          "output_type": "execute_result",
          "data": {
            "text/plain": [
              "array([2.4417600e-06, 9.3991474e-07, 1.3568859e-05, 2.6008863e-06,\n",
              "       6.9975044e-06, 1.0351488e-01, 6.1363830e-06, 5.1920563e-01,\n",
              "       5.0540916e-03, 3.7219274e-01], dtype=float32)"
            ]
          },
          "metadata": {},
          "execution_count": 7
        }
      ]
    },
    {
      "cell_type": "code",
      "metadata": {
        "id": "kBf23XrtqrB6",
        "colab": {
          "base_uri": "https://localhost:8080/",
          "height": 332
        },
        "outputId": "8adccfab-8c3e-46d0-cfbb-04a7133c9254"
      },
      "source": [
        "FMNIST_labels = ['T-shirt/top','Trouser','Pullover','Dress','Coat','Sandal','Shirt','Sport Shoes','Bag','Ankle Boots']\n",
        "plt.xticks(np.arange(10),labels=FMNIST_labels,rotation='vertical')\n",
        "plt.bar(np.arange(10), nps)"
      ],
      "execution_count": 8,
      "outputs": [
        {
          "output_type": "execute_result",
          "data": {
            "text/plain": [
              "<BarContainer object of 10 artists>"
            ]
          },
          "metadata": {},
          "execution_count": 8
        },
        {
          "output_type": "display_data",
          "data": {
            "text/plain": [
              "<Figure size 432x288 with 1 Axes>"
            ],
            "image/png": "[encoded data removed]"
          },
          "metadata": {
            "needs_background": "light"
          }
        }
      ]
    },
    {
      "cell_type": "code",
      "metadata": {
        "id": "Y7gY5hARpOp4",
        "colab": {
          "base_uri": "https://localhost:8080/",
          "height": 282
        },
        "outputId": "aea03753-ee3f-4698-920d-935d06d05e48"
      },
      "source": [
        "def denormalize(tensor):\n",
        "  tensor = tensor*0.5 + 0.5\n",
        "  return tensor\n",
        "  \n",
        "img = img.view(28,-1)\n",
        "img = denormalize(img)\n",
        "plt.imshow(img,cmap='gray')"
      ],
      "execution_count": 9,
      "outputs": [
        {
          "output_type": "execute_result",
          "data": {
            "text/plain": [
              "<matplotlib.image.AxesImage at 0x7fc22601cf70>"
            ]
          },
          "metadata": {},
          "execution_count": 9
        },
        {
          "output_type": "display_data",
          "data": {
            "text/plain": [
              "<Figure size 432x288 with 1 Axes>"
            ],
            "image/png": "[encoded data removed]"
          },
          "metadata": {
            "needs_background": "light"
          }
        }
      ]
    },
    {
      "cell_type": "code",
      "metadata": {
        "id": "AxTiil7cXOAz",
        "colab": {
          "base_uri": "https://localhost:8080/"
        },
        "outputId": "81982af8-8fa6-4183-a3b4-96de23af08a1"
      },
      "source": [
        "with torch.no_grad():\n",
        "    num_correct = 0\n",
        "    total = 0\n",
        "\n",
        "    cnt = 0\n",
        "    for images, labels in testloader:\n",
        "        \n",
        "        logps = model(images)\n",
        "        output = torch.exp(logps)\n",
        "        print(output)\n",
        "        cnt+=1\n",
        "        \n",
        "        if cnt > 0:\n",
        "          break"
      ],
      "execution_count": 16,
      "outputs": [
        {
          "output_type": "stream",
          "name": "stdout",
          "text": [
            "tensor([[2.4418e-06, 9.3991e-07, 1.3569e-05, 2.6009e-06, 6.9975e-06, 1.0351e-01,\n",
            "         6.1364e-06, 5.1921e-01, 5.0541e-03, 3.7219e-01],\n",
            "        [7.1576e-04, 5.5879e-05, 9.5028e-01, 8.8940e-05, 1.4290e-02, 5.8418e-06,\n",
            "         3.4220e-02, 4.6351e-09, 3.3871e-04, 1.9919e-07],\n",
            "        [6.1388e-06, 9.9988e-01, 2.1313e-05, 5.8174e-05, 3.0288e-05, 1.0092e-08,\n",
            "         7.3397e-08, 4.4008e-07, 1.5035e-09, 4.3369e-09],\n",
            "        [1.7782e-06, 9.9970e-01, 2.7317e-05, 2.4517e-04, 2.3886e-05, 7.7697e-08,\n",
            "         6.2467e-08, 1.9915e-06, 3.8185e-09, 2.5344e-08],\n",
            "        [1.2274e-01, 1.4280e-03, 2.5407e-01, 1.6472e-02, 1.6476e-02, 2.6000e-04,\n",
            "         5.8216e-01, 2.2214e-06, 6.3758e-03, 1.1695e-05],\n",
            "        [8.2353e-04, 9.9305e-01, 6.4973e-04, 1.4334e-03, 3.9921e-03, 2.5484e-07,\n",
            "         4.8883e-05, 3.8701e-06, 4.5910e-07, 1.2103e-07],\n",
            "        [1.3048e-02, 2.5649e-03, 1.0256e-01, 1.2705e-03, 7.5399e-01, 1.3815e-04,\n",
            "         1.2480e-01, 1.6762e-06, 1.6220e-03, 1.1544e-06],\n",
            "        [7.0048e-03, 9.3613e-04, 1.8348e-01, 4.3148e-03, 2.1725e-01, 4.9262e-04,\n",
            "         5.7638e-01, 1.5059e-06, 1.0132e-02, 6.2543e-06],\n",
            "        [1.2367e-02, 8.7736e-03, 3.5342e-02, 4.0079e-02, 6.2419e-03, 6.1100e-01,\n",
            "         1.1405e-02, 2.4674e-01, 2.6598e-02, 1.4560e-03],\n",
            "        [7.8667e-06, 8.3544e-06, 1.1346e-05, 4.3585e-05, 2.4191e-05, 9.6707e-03,\n",
            "         6.3178e-06, 9.8825e-01, 8.9956e-04, 1.0801e-03],\n",
            "        [6.3421e-04, 2.4465e-02, 5.2060e-01, 1.1225e-03, 4.1812e-01, 4.4539e-05,\n",
            "         3.4850e-02, 4.0823e-07, 1.5619e-04, 3.3876e-06],\n",
            "        [1.0981e-04, 8.0777e-05, 1.3865e-03, 1.2868e-04, 4.2424e-04, 6.5296e-01,\n",
            "         3.2510e-04, 2.7755e-01, 1.4866e-02, 5.2177e-02],\n",
            "        [3.9797e-04, 2.8309e-04, 5.0290e-03, 3.5071e-03, 1.9453e-03, 7.5611e-01,\n",
            "         1.0200e-03, 1.2763e-01, 1.0289e-01, 1.1832e-03],\n",
            "        [1.3380e-03, 4.9791e-03, 2.7097e-04, 9.9061e-01, 3.0624e-04, 3.5163e-06,\n",
            "         3.8463e-04, 1.6523e-03, 4.3762e-04, 1.6341e-05],\n",
            "        [4.0436e-04, 1.5002e-04, 3.5561e-02, 6.0699e-04, 8.9827e-01, 5.8435e-06,\n",
            "         6.0113e-02, 2.5930e-07, 4.8817e-03, 2.1743e-06],\n",
            "        [1.1970e-04, 9.8984e-01, 4.1662e-04, 9.2327e-03, 3.6400e-04, 4.3594e-07,\n",
            "         9.4708e-06, 1.2042e-05, 2.4428e-07, 2.4625e-07],\n",
            "        [6.0458e-02, 1.6042e-02, 8.0552e-01, 5.1735e-03, 2.1782e-02, 4.8723e-04,\n",
            "         8.9893e-02, 1.4254e-06, 6.3759e-04, 4.9268e-06],\n",
            "        [2.2350e-02, 3.9440e-04, 4.0629e-01, 2.3272e-03, 1.9587e-01, 4.4509e-05,\n",
            "         3.6394e-01, 3.4581e-07, 8.7781e-03, 3.6448e-06],\n",
            "        [5.7589e-04, 7.9078e-06, 4.2889e-03, 7.8227e-05, 2.0217e-03, 7.8812e-03,\n",
            "         2.7419e-03, 2.2681e-03, 9.7817e-01, 1.9693e-03],\n",
            "        [9.4702e-01, 9.3403e-05, 3.2605e-03, 3.0890e-03, 1.0756e-04, 8.0540e-08,\n",
            "         4.6393e-02, 5.2985e-09, 3.6276e-05, 8.1314e-09],\n",
            "        [4.0668e-01, 1.5453e-02, 2.5497e-01, 1.8942e-02, 3.6963e-02, 1.5559e-03,\n",
            "         2.4895e-01, 7.1764e-05, 1.5900e-02, 5.1017e-04],\n",
            "        [2.6103e-05, 7.8052e-05, 3.5275e-04, 2.0469e-04, 2.9074e-04, 2.7772e-01,\n",
            "         5.1973e-05, 7.0885e-01, 8.8699e-03, 3.5544e-03],\n",
            "        [5.2192e-08, 3.2797e-07, 6.9622e-07, 6.4959e-07, 1.3843e-06, 7.0915e-03,\n",
            "         7.0813e-08, 9.8682e-01, 3.2586e-04, 5.7551e-03],\n",
            "        [5.0754e-06, 4.3997e-06, 2.0920e-05, 9.6582e-06, 9.3706e-06, 1.6171e-01,\n",
            "         3.8624e-06, 8.0292e-01, 1.3837e-03, 3.3933e-02],\n",
            "        [1.9652e-06, 9.9976e-01, 1.5378e-05, 1.9886e-04, 1.7714e-05, 9.0721e-08,\n",
            "         3.9494e-08, 4.1118e-06, 4.2544e-09, 2.4590e-08],\n",
            "        [3.8931e-03, 4.0552e-03, 8.8486e-01, 1.1317e-02, 3.4350e-02, 1.9996e-03,\n",
            "         5.5266e-02, 4.8474e-06, 4.2501e-03, 5.4616e-06],\n",
            "        [1.2307e-03, 2.2454e-04, 1.7369e-01, 5.3659e-04, 4.1571e-01, 2.1903e-05,\n",
            "         4.0560e-01, 6.3856e-08, 2.9793e-03, 3.2078e-06],\n",
            "        [4.6045e-01, 3.5631e-02, 1.2043e-02, 4.0056e-01, 3.1611e-02, 2.1201e-07,\n",
            "         5.9518e-02, 3.7829e-06, 1.8346e-04, 3.4283e-07],\n",
            "        [6.1922e-07, 1.4395e-07, 1.9136e-06, 3.4703e-07, 1.6259e-06, 1.4683e-02,\n",
            "         9.9626e-07, 3.8425e-01, 3.4627e-03, 5.9760e-01],\n",
            "        [7.2746e-02, 2.4882e-03, 1.0367e-02, 2.1849e-01, 3.9698e-01, 1.3924e-06,\n",
            "         2.9361e-01, 1.1732e-05, 5.3028e-03, 1.9310e-06],\n",
            "        [5.4081e-06, 1.0829e-07, 1.1971e-04, 1.4602e-05, 6.0326e-04, 6.6633e-04,\n",
            "         1.6018e-04, 2.4358e-04, 9.9807e-01, 1.1793e-04],\n",
            "        [1.3164e-02, 2.7367e-05, 9.3994e-03, 3.9180e-02, 3.1429e-03, 6.8148e-04,\n",
            "         3.1737e-02, 1.0734e-04, 9.0253e-01, 3.1294e-05],\n",
            "        [7.2123e-03, 9.1718e-03, 5.0602e-03, 9.5751e-01, 4.8951e-03, 2.5752e-04,\n",
            "         7.4832e-03, 2.5159e-03, 5.8388e-03, 5.3896e-05],\n",
            "        [5.2502e-02, 9.4289e-04, 2.0081e-02, 8.4705e-01, 8.7984e-03, 6.1486e-07,\n",
            "         6.8729e-02, 5.1322e-06, 1.8927e-03, 3.3703e-07],\n",
            "        [3.3146e-04, 6.6011e-06, 1.2365e-02, 2.6149e-03, 1.3789e-03, 3.1346e-03,\n",
            "         3.4088e-03, 1.6502e-04, 9.7656e-01, 3.9027e-05],\n",
            "        [7.2533e-01, 8.3360e-04, 2.7428e-02, 3.7294e-02, 1.5243e-03, 3.7799e-05,\n",
            "         2.0637e-01, 1.9594e-06, 1.1827e-03, 9.1665e-07],\n",
            "        [2.0257e-06, 7.9782e-06, 3.6798e-06, 8.4609e-06, 1.3732e-05, 5.5358e-03,\n",
            "         1.4948e-06, 9.9246e-01, 2.2315e-04, 1.7449e-03],\n",
            "        [2.4404e-03, 8.8667e-04, 6.4405e-03, 5.1753e-03, 7.7934e-04, 8.7813e-01,\n",
            "         3.4182e-03, 9.4064e-02, 7.4898e-03, 1.1720e-03],\n",
            "        [1.1648e-06, 8.1190e-06, 7.9826e-06, 5.6363e-06, 2.6102e-05, 6.0887e-03,\n",
            "         1.2619e-06, 9.9164e-01, 3.9849e-04, 1.8265e-03],\n",
            "        [5.6960e-08, 1.0698e-08, 1.6073e-07, 1.3218e-08, 8.7886e-08, 2.2699e-03,\n",
            "         1.2037e-07, 3.1501e-02, 3.2890e-04, 9.6590e-01],\n",
            "        [6.5303e-01, 1.3109e-05, 1.9085e-03, 2.7143e-03, 9.0822e-04, 5.7359e-08,\n",
            "         3.4118e-01, 7.3596e-09, 2.3919e-04, 3.6759e-08],\n",
            "        [3.4325e-06, 9.9980e-01, 1.4515e-05, 1.3291e-04, 4.2274e-05, 1.8329e-08,\n",
            "         7.9141e-08, 6.1948e-06, 2.3620e-09, 5.4901e-08],\n",
            "        [1.7735e-01, 9.0509e-03, 6.8540e-02, 2.2871e-01, 2.2535e-01, 2.4806e-06,\n",
            "         2.8803e-01, 2.1014e-06, 2.9684e-03, 4.0931e-07],\n",
            "        [1.4183e-07, 6.4281e-08, 2.8400e-07, 3.5648e-08, 1.5200e-07, 1.2230e-02,\n",
            "         1.0913e-07, 4.4096e-01, 1.3140e-04, 5.4668e-01],\n",
            "        [3.6437e-03, 1.2132e-04, 1.9108e-01, 1.5839e-03, 2.3868e-01, 3.8861e-06,\n",
            "         5.6305e-01, 1.1837e-08, 1.8276e-03, 1.6289e-07],\n",
            "        [3.1262e-04, 6.0898e-05, 6.0679e-04, 2.5811e-04, 1.8297e-04, 3.7001e-01,\n",
            "         4.2161e-04, 5.5478e-01, 1.9523e-02, 5.3848e-02],\n",
            "        [2.3561e-02, 1.0025e-03, 8.0650e-01, 2.6554e-03, 1.9634e-02, 4.3921e-05,\n",
            "         1.4496e-01, 1.0280e-07, 1.6426e-03, 2.6773e-06],\n",
            "        [3.8237e-04, 9.6607e-01, 4.8040e-04, 3.1964e-02, 1.0109e-03, 2.3011e-07,\n",
            "         2.2660e-05, 6.4783e-05, 7.5665e-07, 7.6354e-07],\n",
            "        [1.0609e-03, 3.3374e-02, 6.8575e-01, 8.7998e-03, 2.4888e-01, 3.0252e-04,\n",
            "         2.1040e-02, 4.0703e-06, 7.8178e-04, 4.0184e-06],\n",
            "        [6.5117e-03, 2.4280e-04, 3.0159e-01, 2.3385e-03, 8.0534e-02, 4.6160e-05,\n",
            "         6.0432e-01, 9.2390e-08, 4.4112e-03, 2.0013e-06],\n",
            "        [1.0867e-02, 6.0392e-04, 3.1120e-01, 8.9358e-04, 4.1819e-01, 7.3272e-05,\n",
            "         2.5013e-01, 4.5623e-07, 8.0398e-03, 7.2577e-06],\n",
            "        [5.0167e-03, 1.3341e-03, 8.1403e-01, 2.7761e-03, 3.1811e-02, 1.3468e-03,\n",
            "         1.4149e-01, 8.7015e-07, 2.1978e-03, 1.9841e-06],\n",
            "        [3.9929e-03, 3.9373e-03, 1.2549e-02, 1.1326e-02, 1.2966e-03, 6.9347e-01,\n",
            "         3.4054e-03, 2.5619e-01, 8.2424e-03, 5.5878e-03],\n",
            "        [5.0320e-02, 1.7772e-04, 1.4768e-01, 1.8074e-03, 2.3722e-02, 3.4113e-03,\n",
            "         5.3559e-01, 1.1597e-05, 2.3622e-01, 1.0644e-03],\n",
            "        [8.2601e-03, 4.0594e-02, 6.2274e-01, 2.3584e-02, 2.6821e-01, 4.1910e-05,\n",
            "         3.5468e-02, 1.9922e-06, 1.0948e-03, 1.2516e-06],\n",
            "        [4.5815e-02, 1.9938e-03, 8.8049e-01, 1.6988e-03, 7.5714e-03, 1.1181e-04,\n",
            "         6.0821e-02, 2.2589e-07, 1.4893e-03, 6.3538e-06],\n",
            "        [3.8305e-04, 6.6200e-07, 1.3110e-03, 3.5856e-05, 2.7758e-03, 3.3205e-04,\n",
            "         2.2430e-03, 8.6172e-05, 9.9278e-01, 5.1073e-05],\n",
            "        [4.7665e-04, 4.7940e-04, 5.2674e-01, 1.0946e-03, 3.7854e-01, 2.5221e-05,\n",
            "         9.0693e-02, 1.4632e-07, 1.9432e-03, 1.1339e-06],\n",
            "        [3.0821e-04, 3.8670e-07, 1.0622e-03, 2.2379e-05, 1.0639e-03, 6.3620e-04,\n",
            "         2.0231e-03, 1.5541e-04, 9.9465e-01, 7.3988e-05],\n",
            "        [8.0276e-01, 2.0091e-02, 4.9204e-02, 3.4329e-02, 3.7356e-03, 1.6483e-04,\n",
            "         8.9194e-02, 1.8917e-05, 4.9519e-04, 6.7974e-06],\n",
            "        [8.2545e-07, 1.8943e-06, 2.4012e-06, 4.3242e-06, 3.6724e-06, 7.6442e-03,\n",
            "         6.4615e-07, 9.9092e-01, 1.5544e-04, 1.2695e-03],\n",
            "        [3.1435e-07, 5.6939e-07, 1.9615e-06, 2.2743e-06, 3.4113e-06, 1.4607e-02,\n",
            "         4.6249e-07, 9.7015e-01, 1.1983e-03, 1.4035e-02],\n",
            "        [1.2419e-06, 1.0595e-06, 2.0984e-04, 1.3116e-05, 1.1677e-03, 5.3315e-03,\n",
            "         3.4691e-05, 7.7217e-03, 9.8286e-01, 2.6607e-03],\n",
            "        [6.8186e-04, 1.8042e-04, 2.9436e-03, 7.2089e-04, 3.1899e-04, 9.4919e-01,\n",
            "         1.2797e-03, 3.4043e-02, 7.5153e-03, 3.1270e-03]])\n"
          ]
        }
      ]
    },
    {
      "cell_type": "code",
      "metadata": {
        "id": "6Ij_wa7paveM"
      },
      "source": [
        "with torch.no_grad():\n",
        "    num_correct = 0\n",
        "    total = 0\n",
        "\n",
        "    #set_trace()\n",
        "    for images, labels in testloader:\n",
        "        \n",
        "        logps = model(images)\n",
        "        output = torch.exp(logps)\n",
        "        \n",
        "        pred = torch.argmax(output, 1)\n",
        "        total += labels.size(0)\n"
      ],
      "execution_count": 17,
      "outputs": []
    },
    {
      "cell_type": "code",
      "metadata": {
        "id": "nyxadgAyiRqg",
        "colab": {
          "base_uri": "https://localhost:8080/"
        },
        "outputId": "8bf2b16b-17c3-4abe-8ce7-abaccd99bf44"
      },
      "source": [
        "pred, labels"
      ],
      "execution_count": 18,
      "outputs": [
        {
          "output_type": "execute_result",
          "data": {
            "text/plain": [
              "(tensor([3, 1, 7, 5, 8, 2, 5, 2, 8, 9, 1, 9, 1, 8, 1, 5]),\n",
              " tensor([3, 2, 7, 5, 8, 4, 5, 6, 8, 9, 1, 9, 1, 8, 1, 5]))"
            ]
          },
          "metadata": {},
          "execution_count": 18
        }
      ]
    },
    {
      "cell_type": "code",
      "metadata": {
        "id": "ojLPwZLdi3OX",
        "colab": {
          "base_uri": "https://localhost:8080/"
        },
        "outputId": "99e79000-81e4-45d5-b74d-4d957678b414"
      },
      "source": [
        "pred == labels"
      ],
      "execution_count": 19,
      "outputs": [
        {
          "output_type": "execute_result",
          "data": {
            "text/plain": [
              "tensor([ True, False,  True,  True,  True, False,  True, False,  True,  True,\n",
              "         True,  True,  True,  True,  True,  True])"
            ]
          },
          "metadata": {},
          "execution_count": 19
        }
      ]
    },
    {
      "cell_type": "code",
      "metadata": {
        "id": "6V-3r9n-iCMb",
        "colab": {
          "base_uri": "https://localhost:8080/"
        },
        "outputId": "3112c825-34a0-44b6-d2a8-67866653d324"
      },
      "source": [
        "with torch.no_grad():\n",
        "    num_correct = 0\n",
        "    total = 0\n",
        "\n",
        "    #set_trace()\n",
        "    for images, labels in testloader:\n",
        "        \n",
        "        logps = model(images)\n",
        "        output = torch.exp(logps)\n",
        "        \n",
        "        pred = torch.argmax(output, 1)\n",
        "        total += labels.size(0)\n",
        "        num_correct += (pred == labels).sum().item()\n",
        "\n",
        "    print(f'Accuracy of the model on the 10000 test images: {num_correct * 100 / total}% ')"
      ],
      "execution_count": 20,
      "outputs": [
        {
          "output_type": "stream",
          "name": "stdout",
          "text": [
            "Accuracy of the model on the 10000 test images: 81.67% \n"
          ]
        }
      ]
    },
    {
      "cell_type": "code",
      "metadata": {
        "id": "2VNQH0g6F8xH"
      },
      "source": [],
      "execution_count": null,
      "outputs": []
    }
  ]
}